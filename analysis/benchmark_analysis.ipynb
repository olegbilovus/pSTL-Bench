{
 "cells": [
  {
   "attachments": {},
   "cell_type": "markdown",
   "metadata": {},
   "source": [
    "# Benchmark Analysis"
   ]
  },
  {
   "cell_type": "code",
   "execution_count": 1,
   "metadata": {},
   "outputs": [
    {
     "name": "stdout",
     "output_type": "stream",
     "text": [
      "Requirement already satisfied: matplotlib in ./venv/lib/python3.9/site-packages (from -r requirements.txt (line 1)) (3.7.1)\r\n",
      "Requirement already satisfied: numpy in ./venv/lib/python3.9/site-packages (from -r requirements.txt (line 2)) (1.24.2)\r\n",
      "Requirement already satisfied: pandas in ./venv/lib/python3.9/site-packages (from -r requirements.txt (line 3)) (1.5.3)\r\n",
      "Requirement already satisfied: cycler>=0.10 in ./venv/lib/python3.9/site-packages (from matplotlib->-r requirements.txt (line 1)) (0.11.0)\r\n",
      "Requirement already satisfied: kiwisolver>=1.0.1 in ./venv/lib/python3.9/site-packages (from matplotlib->-r requirements.txt (line 1)) (1.4.4)\r\n",
      "Requirement already satisfied: pillow>=6.2.0 in ./venv/lib/python3.9/site-packages (from matplotlib->-r requirements.txt (line 1)) (9.4.0)\r\n",
      "Requirement already satisfied: importlib-resources>=3.2.0 in ./venv/lib/python3.9/site-packages (from matplotlib->-r requirements.txt (line 1)) (5.12.0)\r\n",
      "Requirement already satisfied: packaging>=20.0 in ./venv/lib/python3.9/site-packages (from matplotlib->-r requirements.txt (line 1)) (23.0)\r\n",
      "Requirement already satisfied: fonttools>=4.22.0 in ./venv/lib/python3.9/site-packages (from matplotlib->-r requirements.txt (line 1)) (4.38.0)\r\n",
      "Requirement already satisfied: python-dateutil>=2.7 in ./venv/lib/python3.9/site-packages (from matplotlib->-r requirements.txt (line 1)) (2.8.2)\r\n",
      "Requirement already satisfied: pyparsing>=2.3.1 in ./venv/lib/python3.9/site-packages (from matplotlib->-r requirements.txt (line 1)) (3.0.9)\r\n",
      "Requirement already satisfied: contourpy>=1.0.1 in ./venv/lib/python3.9/site-packages (from matplotlib->-r requirements.txt (line 1)) (1.0.7)\r\n",
      "Requirement already satisfied: pytz>=2020.1 in ./venv/lib/python3.9/site-packages (from pandas->-r requirements.txt (line 3)) (2022.7.1)\r\n",
      "Requirement already satisfied: zipp>=3.1.0 in ./venv/lib/python3.9/site-packages (from importlib-resources>=3.2.0->matplotlib->-r requirements.txt (line 1)) (3.15.0)\r\n",
      "Requirement already satisfied: six>=1.5 in ./venv/lib/python3.9/site-packages (from python-dateutil>=2.7->matplotlib->-r requirements.txt (line 1)) (1.16.0)\r\n",
      "\u001b[33mWARNING: You are using pip version 21.3.1; however, version 23.0.1 is available.\r\n",
      "You should consider upgrading via the '/Users/diego/Documents/Studium/4_Semester/Masterarbeit/master_benchmarks/analysis/venv/bin/python -m pip install --upgrade pip' command.\u001b[0m\r\n"
     ]
    }
   ],
   "source": [
    "import sys\n",
    "!{sys.executable} -m pip install -r requirements.txt"
   ]
  },
  {
   "cell_type": "code",
   "execution_count": 2,
   "metadata": {},
   "outputs": [],
   "source": [
    "import matplotlib.pyplot as plt\n",
    "import numpy as np\n",
    "import pandas as pd\n",
    "import os\n",
    "from pathlib import Path\n",
    "from typing import List\n",
    "\n",
    "% matplotlib inline"
   ]
  },
  {
   "cell_type": "code",
   "execution_count": 3,
   "metadata": {},
   "outputs": [],
   "source": [
    "root_dir = '/Users/diego/Desktop/BENCHMARK_COLLECTED_NEBULAH_B1-B4_1'"
   ]
  },
  {
   "attachments": {},
   "cell_type": "markdown",
   "metadata": {},
   "source": [
    "## Utils "
   ]
  },
  {
   "cell_type": "code",
   "execution_count": 4,
   "metadata": {},
   "outputs": [],
   "source": [
    "def get_path(*entries):\n",
    "    return os.path.join(*entries)\n"
   ]
  },
  {
   "cell_type": "code",
   "execution_count": 5,
   "metadata": {},
   "outputs": [],
   "source": [
    "def ensure_file_existence(output_filename):\n",
    "    \"\"\"\n",
    "    Checks wheterh the path to the file exists. If not it creates the folder structure and the final file.\n",
    "    :param output_filename: path to the file\n",
    "    :return:\n",
    "    \"\"\"\n",
    "\n",
    "    # creates dirs etc if they do not exists\n",
    "    output_path = Path(output_filename)\n",
    "    if not os.path.exists(output_path.parent):\n",
    "        os.makedirs(output_path.parent)\n",
    "    output_path.touch(exist_ok=True)  # will create file, if it exists will do nothing"
   ]
  },
  {
   "cell_type": "code",
   "execution_count": 6,
   "metadata": {},
   "outputs": [],
   "source": [
    "def extraction_pandas_frame_algo(path):\n",
    "    df = pd.read_csv(path)\n",
    "\n",
    "    # dropping columns we do not care about\n",
    "    df = df.drop(['iterations', 'bytes_per_second', 'items_per_second', 'label', 'error_occurred', 'error_message'],\n",
    "                 axis=1)\n",
    "\n",
    "    # adding the problem size as column\n",
    "    df = df[df['name'].str.endswith(('mean', 'median', 'stddev'))]\n",
    "    df['n'] = df.apply(lambda x: x[0][x[0].find('/') + 1:x[0].rfind('_')], axis=1)\n",
    "\n",
    "    df = df.reset_index(drop=True)\n",
    "\n",
    "    # convert to format \n",
    "    # name\treal_time\tcpu_time\ttime_unit\tn\tmedian\tstddev\tCompiler\n",
    "    results_gcc = df.groupby('n').apply(lambda sf: pd.Series(sf.iloc[0])).reset_index(drop=True)\n",
    "    results_gcc.n = results_gcc.n.astype(int)\n",
    "    results_gcc = results_gcc.sort_values(['n'], ascending=True).reset_index(drop=True)\n",
    "\n",
    "    results_gcc['C'] = np.arange(len(results_gcc))\n",
    "\n",
    "    results_gcc['median_id'] = results_gcc['C'] * 3 + 1\n",
    "    results_gcc['median'] = results_gcc['median_id'].apply(lambda x: df.iloc[x]['real_time'])\n",
    "\n",
    "    results_gcc['stddev_id'] = results_gcc['C'] * 3 + 2\n",
    "    results_gcc['stddev'] = results_gcc['stddev_id'].apply(lambda x: df.iloc[x]['real_time'])\n",
    "\n",
    "    results_gcc = results_gcc.drop(['C', 'median_id', 'stddev_id'], axis=1)\n",
    "    results_gcc['Compiler'] = 'TODO'\n",
    "    results_gcc['name'] = results_gcc.apply(lambda x: x[0].replace(str(x['n']), \"\").replace('/_mean', ''), axis=1)\n",
    "\n",
    "    return results_gcc\n"
   ]
  },
  {
   "attachments": {},
   "cell_type": "markdown",
   "metadata": {},
   "source": [
    "# Nebulah all Core\n",
    "\n",
    "TODO: system info"
   ]
  },
  {
   "attachments": {},
   "cell_type": "markdown",
   "metadata": {},
   "source": [
    "## H1\n",
    "> Some parallel backends exhibit better performance and scalability when handling nested parallelism for homogeneous\n",
    "> workloads\n",
    ">"
   ]
  },
  {
   "attachments": {},
   "cell_type": "markdown",
   "metadata": {},
   "source": [
    "### Time "
   ]
  },
  {
   "attachments": {},
   "cell_type": "markdown",
   "metadata": {},
   "source": [
    "#### Time Comparison - `b1_1_for_each_linear_par`\n",
    "Check how the runtime without constraining the threads develops with increasing input size"
   ]
  },
  {
   "cell_type": "code",
   "execution_count": null,
   "metadata": {},
   "outputs": [],
   "source": [
    "# load data gcc (b1_1_for_each_linear_par)\n",
    "\n",
    "# load data nvhpc (b1_1_for_each_linear_par)\n",
    "\n",
    "# plot"
   ]
  },
  {
   "attachments": {},
   "cell_type": "markdown",
   "metadata": {},
   "source": [
    "#### Time Comparison - `b1_2_for_each_quadratic_outer_std::execution::parallel_policy_par`\n",
    "Check how the runtime without constraining the threads develops with increasing input size"
   ]
  },
  {
   "cell_type": "code",
   "execution_count": null,
   "metadata": {},
   "outputs": [],
   "source": [
    "# load data gcc (b1_2_for_each_quadratic_outer_std::execution::parallel_policy_par)\n",
    "\n",
    "# load data nvhpc (b1_2_for_each_quadratic_outer_std::execution::parallel_policy_par)\n",
    "\n",
    "# plot"
   ]
  },
  {
   "attachments": {},
   "cell_type": "markdown",
   "metadata": {},
   "source": [
    "#### Time Comparison - `b1_4_for_each_exponential_par`\n",
    "Check how the runtime without constraining the threads develops with increasing input size"
   ]
  },
  {
   "cell_type": "code",
   "execution_count": 1,
   "metadata": {},
   "outputs": [],
   "source": [
    "# load data gcc (b1_4_for_each_exponential_par)\n",
    "\n",
    "# load data nvhpc (b1_4_for_each_exponential_par)\n",
    "\n",
    "# plot"
   ]
  },
  {
   "attachments": {},
   "cell_type": "markdown",
   "metadata": {},
   "source": [
    "### Strong Scaling\n",
    "\n",
    "`S(p)= T(1) / T(p)`\n",
    "\n",
    "As based we use once the:\n",
    "* sequential algorithm \n",
    "* parallel algorithm (1 thread)"
   ]
  },
  {
   "attachments": {},
   "cell_type": "markdown",
   "metadata": {},
   "source": [
    "#### Strong Scaling - `b1_1_for_each_linear` \n",
    "1 Million fixed input size with threads 1-32"
   ]
  },
  {
   "attachments": {},
   "cell_type": "markdown",
   "metadata": {},
   "source": [
    "##### Seq Base"
   ]
  },
  {
   "cell_type": "code",
   "execution_count": 2,
   "metadata": {},
   "outputs": [],
   "source": [
    "# load gcc (b1_1_for_each_linear_seq)\n",
    "# load gcc threaded b1_1_for_each_linear_par \n",
    "\n",
    "# load nvhpc (b1_1_for_each_linear_seq)\n",
    "# load nvhpc threaded b1_1_for_each_linear_par \n",
    "\n",
    "# plot strong scaling"
   ]
  },
  {
   "attachments": {},
   "cell_type": "markdown",
   "metadata": {},
   "source": [
    "##### Par(1) Base"
   ]
  },
  {
   "cell_type": "code",
   "execution_count": 3,
   "metadata": {},
   "outputs": [],
   "source": [
    "# load gcc threaded b1_1_for_each_linear_par \n",
    "\n",
    "# load nvhpc threaded b1_1_for_each_linear_par \n",
    "\n",
    "# plot strong scaling"
   ]
  },
  {
   "attachments": {},
   "cell_type": "markdown",
   "metadata": {},
   "source": [
    "#### Strong Scaling - `b1_2_for_each_quadratic` \n",
    "1 Million fixed input size with threads 1-32"
   ]
  },
  {
   "cell_type": "markdown",
   "metadata": {},
   "source": [
    "##### Seq Base"
   ]
  },
  {
   "attachments": {},
   "cell_type": "markdown",
   "metadata": {},
   "source": [
    "Here we wont do it with seq base because its not really realistic"
   ]
  },
  {
   "cell_type": "markdown",
   "metadata": {},
   "source": [
    "##### Par(1) Base"
   ]
  },
  {
   "cell_type": "code",
   "execution_count": null,
   "metadata": {},
   "outputs": [],
   "source": [
    "# load gcc threaded b1_2_for_each_quadratic_outer_std::execution::parallel_policy_par \n",
    "\n",
    "# load nvhpc threaded b1_2_for_each_quadratic_outer_std::execution::parallel_policy_par \n",
    "\n",
    "# plot strong scaling"
   ]
  },
  {
   "attachments": {},
   "cell_type": "markdown",
   "metadata": {},
   "source": [
    "#### Strong Scaling - `b1_4_for_each_exponential` \n",
    "32 fixed input size with threads 1-32"
   ]
  },
  {
   "cell_type": "markdown",
   "metadata": {},
   "source": [
    "##### Seq Base"
   ]
  },
  {
   "cell_type": "code",
   "execution_count": null,
   "metadata": {},
   "outputs": [],
   "source": [
    "# load gcc (b1_4_for_each_exponential_seq)\n",
    "# load gcc threaded b1_4_for_each_exponential_par \n",
    "\n",
    "# load nvhpc (b1_4_for_each_exponential_seq)\n",
    "# load nvhpc threaded b1_4_for_each_exponential_par \n",
    "\n",
    "# plot strong scaling"
   ]
  },
  {
   "cell_type": "markdown",
   "metadata": {},
   "source": [
    "##### Par(1) Base"
   ]
  },
  {
   "cell_type": "code",
   "execution_count": null,
   "metadata": {},
   "outputs": [],
   "source": [
    "# load gcc threaded b1_4_for_each_exponential_par \n",
    "\n",
    "# load nvhpc threaded b1_4_for_each_exponential_par\n",
    "\n",
    "# plot strong scaling"
   ]
  },
  {
   "attachments": {},
   "cell_type": "markdown",
   "metadata": {},
   "source": [
    "### Performance Portability Calculation (Inter Compiler)"
   ]
  },
  {
   "attachments": {},
   "cell_type": "markdown",
   "metadata": {},
   "source": [
    "for this group we can \"calculate\" a performance probability by looking at the strong scaling speedup every compiler has when using the max amount of cores. (aka running with 1M entries at max core) (insipred by [1])\n",
    "\n",
    "example:\n",
    "\n",
    "```\n",
    "|          | achieved | perfect | efficiency  | \n",
    "|----------|----------|---------|-------------|\n",
    "| GCC(TBB) | 12       | 16      | 12/16=0.75  |\n",
    "| NVC(OMP) | 16       | 16      | 16/16=1     |\n",
    "| NVC(GPU) | 0        | 0       | 0           |\n",
    "| Intel    | 14       | 16      | 14/16=0.875 |\n",
    "\n",
    "Performance Portability for `{GCC(TBB), NVC(OMP), NVC(GPU), Intel}` = 0\n",
    "\n",
    "Performance Portability for `{GCC(TBB), NVC(OMP), Intel}` = `3/((1/0,75)+ (1/1) + (1/0,875))` = 86.3%\n",
    "\n",
    "```"
   ]
  },
  {
   "cell_type": "code",
   "execution_count": null,
   "metadata": {},
   "outputs": [],
   "source": [
    "# calculate efficiency for gcc on max core for `b1_1_for_each_linear`\n",
    "\n",
    "# calculate efficiency for gcc on max core for `b1_2_for_each_quadratic`\n",
    "\n",
    "# calculate efficiency for gcc on max core for `b1_4_for_each_exponential`\n",
    "\n",
    "\n",
    "# calculate efficiency for nvhpc(mc) on max core for `b1_1_for_each_linear`\n",
    "\n",
    "# calculate efficiency for nvhpc(mc) on max core for `b1_2_for_each_quadratic`\n",
    "\n",
    "# calculate efficiency for nvhpc(mc) on max core for `b1_4_for_each_exponential`"
   ]
  },
  {
   "attachments": {},
   "cell_type": "markdown",
   "metadata": {},
   "source": [
    "### Findings for H1"
   ]
  }
 ],
 "metadata": {
  "kernelspec": {
   "display_name": "Python 3",
   "language": "python",
   "name": "python3"
  },
  "language_info": {
   "codemirror_mode": {
    "name": "ipython",
    "version": 3
   },
   "file_extension": ".py",
   "mimetype": "text/x-python",
   "name": "python",
   "nbconvert_exporter": "python",
   "pygments_lexer": "ipython3",
   "version": "3.11.1"
  },
  "orig_nbformat": 4
 },
 "nbformat": 4,
 "nbformat_minor": 2
}
