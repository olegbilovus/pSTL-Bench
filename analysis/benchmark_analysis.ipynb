{
 "cells": [
  {
   "attachments": {},
   "cell_type": "markdown",
   "metadata": {},
   "source": [
    "# Benchmark Analysis"
   ]
  },
  {
   "cell_type": "code",
   "execution_count": 1,
   "metadata": {},
   "outputs": [
    {
     "name": "stdout",
     "output_type": "stream",
     "text": [
      "Requirement already satisfied: matplotlib in /opt/homebrew/lib/python3.11/site-packages (from -r requirements.txt (line 1)) (3.7.0)\n",
      "Requirement already satisfied: numpy in /opt/homebrew/lib/python3.11/site-packages (from -r requirements.txt (line 2)) (1.24.2)\n",
      "Requirement already satisfied: pandas in /opt/homebrew/lib/python3.11/site-packages (from -r requirements.txt (line 3)) (1.5.3)\n",
      "Requirement already satisfied: contourpy>=1.0.1 in /opt/homebrew/lib/python3.11/site-packages (from matplotlib->-r requirements.txt (line 1)) (1.0.7)\n",
      "Requirement already satisfied: cycler>=0.10 in /opt/homebrew/lib/python3.11/site-packages (from matplotlib->-r requirements.txt (line 1)) (0.11.0)\n",
      "Requirement already satisfied: fonttools>=4.22.0 in /opt/homebrew/lib/python3.11/site-packages (from matplotlib->-r requirements.txt (line 1)) (4.38.0)\n",
      "Requirement already satisfied: kiwisolver>=1.0.1 in /opt/homebrew/lib/python3.11/site-packages (from matplotlib->-r requirements.txt (line 1)) (1.4.4)\n",
      "Requirement already satisfied: packaging>=20.0 in /Users/diego/Library/Python/3.11/lib/python/site-packages (from matplotlib->-r requirements.txt (line 1)) (23.0)\n",
      "Requirement already satisfied: pillow>=6.2.0 in /opt/homebrew/lib/python3.11/site-packages (from matplotlib->-r requirements.txt (line 1)) (9.4.0)\n",
      "Requirement already satisfied: pyparsing>=2.3.1 in /opt/homebrew/lib/python3.11/site-packages (from matplotlib->-r requirements.txt (line 1)) (3.0.9)\n",
      "Requirement already satisfied: python-dateutil>=2.7 in /Users/diego/Library/Python/3.11/lib/python/site-packages (from matplotlib->-r requirements.txt (line 1)) (2.8.2)\n",
      "Requirement already satisfied: pytz>=2020.1 in /opt/homebrew/lib/python3.11/site-packages (from pandas->-r requirements.txt (line 3)) (2022.7.1)\n",
      "Requirement already satisfied: six>=1.5 in /Users/diego/Library/Python/3.11/lib/python/site-packages (from python-dateutil>=2.7->matplotlib->-r requirements.txt (line 1)) (1.16.0)\n",
      "\n",
      "\u001b[1m[\u001b[0m\u001b[34;49mnotice\u001b[0m\u001b[1;39;49m]\u001b[0m\u001b[39;49m A new release of pip available: \u001b[0m\u001b[31;49m22.3.1\u001b[0m\u001b[39;49m -> \u001b[0m\u001b[32;49m23.0.1\u001b[0m\n",
      "\u001b[1m[\u001b[0m\u001b[34;49mnotice\u001b[0m\u001b[1;39;49m]\u001b[0m\u001b[39;49m To update, run: \u001b[0m\u001b[32;49mpython3.11 -m pip install --upgrade pip\u001b[0m\n"
     ]
    }
   ],
   "source": [
    "import sys  \n",
    "!{sys.executable} -m pip install -r requirements.txt"
   ]
  },
  {
   "cell_type": "code",
   "execution_count": 2,
   "metadata": {},
   "outputs": [],
   "source": [
    "import matplotlib.pyplot as plt\n",
    "import numpy as np\n",
    "import pandas as pd\n",
    "import os\n",
    "from pathlib import Path\n",
    "from typing import List\n",
    "\n",
    "%matplotlib inline"
   ]
  },
  {
   "cell_type": "code",
   "execution_count": 3,
   "metadata": {},
   "outputs": [],
   "source": [
    "root_dir = '/Users/diego/Desktop/BENCHMARK_COLLECTED_NEBULAH_B1-B4_1'"
   ]
  },
  {
   "attachments": {},
   "cell_type": "markdown",
   "metadata": {},
   "source": [
    "## Utils "
   ]
  },
  {
   "cell_type": "code",
   "execution_count": 4,
   "metadata": {},
   "outputs": [],
   "source": [
    "def get_path(*entries):\n",
    "    return os.path.join(*entries)    \n"
   ]
  },
  {
   "cell_type": "code",
   "execution_count": 5,
   "metadata": {},
   "outputs": [],
   "source": [
    "def ensure_file_existence(output_filename):\n",
    "    \"\"\"\n",
    "    Checks wheterh the path to the file exists. If not it creates the folder structure and the final file.\n",
    "    :param output_filename: path to the file\n",
    "    :return:\n",
    "    \"\"\"\n",
    "\n",
    "    # creates dirs etc if they do not exists\n",
    "    output_path = Path(output_filename)\n",
    "    if not os.path.exists(output_path.parent):\n",
    "        os.makedirs(output_path.parent)\n",
    "    output_path.touch(exist_ok=True)  # will create file, if it exists will do nothing"
   ]
  },
  {
   "cell_type": "code",
   "execution_count": 6,
   "metadata": {},
   "outputs": [],
   "source": [
    "def extraction_pandas_frame_algo(path):\n",
    "    df = pd.read_csv(path)\n",
    "    \n",
    "    # dropping columns we do not care about\n",
    "    df = df.drop(['iterations','bytes_per_second','items_per_second','label','error_occurred','error_message'],axis=1)\n",
    "\n",
    "    # adding the problem size as column\n",
    "    df = df[df['name'].str.endswith(('mean','median','stddev'))]\n",
    "    df['n'] = df.apply(lambda x: x[0][x[0].find('/')+1:x[0].rfind('_')],axis=1)\n",
    "\n",
    "    df = df.reset_index(drop=True)\n",
    "\n",
    "    # convert to format \n",
    "    # name\treal_time\tcpu_time\ttime_unit\tn\tmedian\tstddev\tCompiler\n",
    "    results_gcc = df.groupby('n').apply(lambda sf: pd.Series(sf.iloc[0])).reset_index(drop=True)\n",
    "    results_gcc.n = results_gcc.n.astype(int)\n",
    "    results_gcc = results_gcc.sort_values(['n'],ascending=True).reset_index(drop=True)\n",
    "\n",
    "    results_gcc['C'] = np.arange(len(results_gcc))\n",
    "\n",
    "    results_gcc['median_id'] = results_gcc['C']*3 + 1\n",
    "    results_gcc['median'] = results_gcc['median_id'].apply(lambda x: df.iloc[x]['real_time'])\n",
    "\n",
    "    results_gcc['stddev_id'] = results_gcc['C']*3 + 2\n",
    "    results_gcc['stddev'] = results_gcc['stddev_id'].apply(lambda x: df.iloc[x]['real_time'])\n",
    "\n",
    "\n",
    "    results_gcc = results_gcc.drop(['C','median_id','stddev_id'],axis=1)\n",
    "    results_gcc['Compiler'] = 'TODO'\n",
    "    results_gcc['name'] = results_gcc.apply(lambda x: x[0].replace(str(x['n']),\"\").replace('/_mean',''),axis=1)\n",
    "\n",
    "    return results_gcc\n"
   ]
  },
  {
   "attachments": {},
   "cell_type": "markdown",
   "metadata": {},
   "source": [
    "## Cleaning input files\n",
    "The benchmark csv's are not parseable csv's because they have a header that is not valid csv. We first need to strip this away."
   ]
  },
  {
   "cell_type": "code",
   "execution_count": 7,
   "metadata": {},
   "outputs": [],
   "source": [
    "def clean_file_content(input_filename,output_filename):\n",
    "    with open(input_filename, 'r+') as fr: \n",
    "            lines = fr.readlines()\n",
    "    \n",
    "    with open(output_filename, 'w+') as fw: \n",
    "            reached = False\n",
    "\n",
    "            for line in lines:\n",
    "                if line.startswith('name,iterations,real_time'):\n",
    "                    reached = True\n",
    "\n",
    "                if reached:\n",
    "                    fw.write(line)\n",
    "\n",
    "def clean_all_files(target_dir,target_prefix=\"cleaned\"):\n",
    "    for dirpath, dirnames, filenames in os.walk(target_dir):\n",
    "        if not dirnames:\n",
    "            print(dirpath, \"has \", len(filenames), \"files\")\n",
    "            final_files = [(os.path.join(dirpath,x),os.path.join(dirpath,target_prefix,x)) for x in filenames]\n",
    "\n",
    "            for input_filename, output_filename in final_files:\n",
    "                ensure_file_existence(output_filename)\n",
    "                clean_file_content(input_filename,output_filename)    \n",
    "    print(\"Done!\")\n"
   ]
  },
  {
   "cell_type": "code",
   "execution_count": 8,
   "metadata": {},
   "outputs": [
    {
     "name": "stdout",
     "output_type": "stream",
     "text": [
      "/Users/diego/Desktop/BENCHMARK_COLLECTED_NEBULAH_B1-B4_1/NVHPC_Multicore/DEFAULT/cleaned/cleaned/cleaned has  65 files\n",
      "/Users/diego/Desktop/BENCHMARK_COLLECTED_NEBULAH_B1-B4_1/GCC_TBB/DEFAULT/cleaned/cleaned/cleaned has  66 files\n",
      "Done!\n"
     ]
    }
   ],
   "source": [
    "clean_all_files(\"/Users/diego/Desktop/BENCHMARK_COLLECTED_NEBULAH_B1-B4_1\")\n",
    "# in this case the location of the cleaned files will be /[DEFAULT|NUMACTL]/cleaned"
   ]
  },
  {
   "attachments": {},
   "cell_type": "markdown",
   "metadata": {},
   "source": [
    "## B1_1 - Linear GCC VS NVHC (Multicore)\n",
    "First we take a look at the speedup compared "
   ]
  },
  {
   "cell_type": "code",
   "execution_count": 9,
   "metadata": {},
   "outputs": [
    {
     "data": {
      "text/plain": [
       "<Axes: xlabel='n'>"
      ]
     },
     "execution_count": 9,
     "metadata": {},
     "output_type": "execute_result"
    },
    {
     "data": {
      "image/png": "[encoded data removed]",
      "text/plain": [
       "<Figure size 640x480 with 1 Axes>"
      ]
     },
     "metadata": {},
     "output_type": "display_data"
    }
   ],
   "source": [
    "fig, ax = plt.subplots()\n",
    "\n",
    "b1_1_gcc_par = extraction_pandas_frame_algo(root_dir+'/GCC_TBB/DEFAULT/cleaned/b1_1_for_each_linear_par_Default.csv')\n",
    "b1_1_gcc_par.plot(x='n',y='real_time',ax=ax,label='GCC Par Linear')\n",
    "\n",
    "b1_1_nvc_par = extraction_pandas_frame_algo(root_dir+'/NVHPC_Multicore/DEFAULT/cleaned/b1_1_for_each_linear_par_Default.csv')\n",
    "b1_1_nvc_par.plot(x='n',y='real_time',ax=ax,label='NVC++ (Multicore) Par Linear')\n",
    "\n"
   ]
  },
  {
   "cell_type": "code",
   "execution_count": null,
   "metadata": {},
   "outputs": [],
   "source": []
  },
  {
   "cell_type": "code",
   "execution_count": null,
   "metadata": {},
   "outputs": [],
   "source": []
  }
 ],
 "metadata": {
  "kernelspec": {
   "display_name": "Python 3",
   "language": "python",
   "name": "python3"
  },
  "language_info": {
   "codemirror_mode": {
    "name": "ipython",
    "version": 3
   },
   "file_extension": ".py",
   "mimetype": "text/x-python",
   "name": "python",
   "nbconvert_exporter": "python",
   "pygments_lexer": "ipython3",
   "version": "3.11.1"
  },
  "orig_nbformat": 4
 },
 "nbformat": 4,
 "nbformat_minor": 2
}
