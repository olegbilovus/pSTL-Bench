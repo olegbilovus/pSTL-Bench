{
 "cells": [
  {
   "attachments": {},
   "cell_type": "markdown",
   "metadata": {
    "collapsed": false
   },
   "source": [
    "# Benchmark Analysis - XXX"
   ]
  },
  {
   "cell_type": "code",
   "execution_count": 20,
   "metadata": {},
   "outputs": [
    {
     "name": "stdout",
     "output_type": "stream",
     "text": [
      "Requirement already satisfied: matplotlib in /opt/homebrew/lib/python3.11/site-packages (from -r requirements.txt (line 1)) (3.7.0)\n",
      "Requirement already satisfied: numpy in /opt/homebrew/lib/python3.11/site-packages (from -r requirements.txt (line 2)) (1.24.2)\n",
      "Requirement already satisfied: pandas in /opt/homebrew/lib/python3.11/site-packages (from -r requirements.txt (line 3)) (1.5.3)\n",
      "Requirement already satisfied: contourpy>=1.0.1 in /opt/homebrew/lib/python3.11/site-packages (from matplotlib->-r requirements.txt (line 1)) (1.0.7)\n",
      "Requirement already satisfied: cycler>=0.10 in /opt/homebrew/lib/python3.11/site-packages (from matplotlib->-r requirements.txt (line 1)) (0.11.0)\n",
      "Requirement already satisfied: fonttools>=4.22.0 in /opt/homebrew/lib/python3.11/site-packages (from matplotlib->-r requirements.txt (line 1)) (4.38.0)\n",
      "Requirement already satisfied: kiwisolver>=1.0.1 in /opt/homebrew/lib/python3.11/site-packages (from matplotlib->-r requirements.txt (line 1)) (1.4.4)\n",
      "Requirement already satisfied: packaging>=20.0 in /Users/diego/Library/Python/3.11/lib/python/site-packages (from matplotlib->-r requirements.txt (line 1)) (23.0)\n",
      "Requirement already satisfied: pillow>=6.2.0 in /opt/homebrew/lib/python3.11/site-packages (from matplotlib->-r requirements.txt (line 1)) (9.4.0)\n",
      "Requirement already satisfied: pyparsing>=2.3.1 in /opt/homebrew/lib/python3.11/site-packages (from matplotlib->-r requirements.txt (line 1)) (3.0.9)\n",
      "Requirement already satisfied: python-dateutil>=2.7 in /Users/diego/Library/Python/3.11/lib/python/site-packages (from matplotlib->-r requirements.txt (line 1)) (2.8.2)\n",
      "Requirement already satisfied: pytz>=2020.1 in /opt/homebrew/lib/python3.11/site-packages (from pandas->-r requirements.txt (line 3)) (2022.7.1)\n",
      "Requirement already satisfied: six>=1.5 in /Users/diego/Library/Python/3.11/lib/python/site-packages (from python-dateutil>=2.7->matplotlib->-r requirements.txt (line 1)) (1.16.0)\n",
      "\n",
      "\u001b[1m[\u001b[0m\u001b[34;49mnotice\u001b[0m\u001b[1;39;49m]\u001b[0m\u001b[39;49m A new release of pip available: \u001b[0m\u001b[31;49m22.3.1\u001b[0m\u001b[39;49m -> \u001b[0m\u001b[32;49m23.0.1\u001b[0m\n",
      "\u001b[1m[\u001b[0m\u001b[34;49mnotice\u001b[0m\u001b[1;39;49m]\u001b[0m\u001b[39;49m To update, run: \u001b[0m\u001b[32;49mpython3.11 -m pip install --upgrade pip\u001b[0m\n"
     ]
    }
   ],
   "source": [
    "import sys\n",
    "!{sys.executable} -m pip install -r requirements.txt"
   ]
  },
  {
   "cell_type": "code",
   "execution_count": 21,
   "metadata": {},
   "outputs": [],
   "source": [
    "import matplotlib\n",
    "import matplotlib.pyplot as plt\n",
    "import numpy as np\n",
    "import pandas as pd\n",
    "import statistics\n",
    "import os\n",
    "from pathlib import Path\n",
    "from typing import List, Dict, Any, Tuple\n",
    "\n",
    "%matplotlib inline"
   ]
  },
  {
   "cell_type": "code",
   "execution_count": 22,
   "metadata": {},
   "outputs": [],
   "source": [
    "matplotlib.style.use('seaborn-v0_8')  "
   ]
  },
  {
   "cell_type": "code",
   "execution_count": 23,
   "metadata": {},
   "outputs": [],
   "source": [
    "root_dir = '/Users/diego/Desktop/BENCHMARK_NEBULAC_ALL_67M'"
   ]
  },
  {
   "cell_type": "code",
   "execution_count": 24,
   "metadata": {},
   "outputs": [],
   "source": [
    "GCC_TBB_COLOR = 'salmon'\n",
    "GCC_TBB_COLOR_SECONDARY = 'sienna'\n",
    "\n",
    "NVC_OMP_COLOR = 'green'\n",
    "NVC_OMP_COLOR_SECONDARY = 'yellowgreen'\n",
    "\n",
    "NVC_GPU_COLOR = 'beige'\n"
   ]
  },
  {
   "cell_type": "code",
   "execution_count": 25,
   "metadata": {},
   "outputs": [],
   "source": [
    "plot_save_dir = './plots/XXX'"
   ]
  },
  {
   "attachments": {},
   "cell_type": "markdown",
   "metadata": {},
   "source": [
    "## Utils "
   ]
  },
  {
   "cell_type": "code",
   "execution_count": 26,
   "metadata": {},
   "outputs": [],
   "source": [
    "def get_path(*entries):\n",
    "    return os.path.join(*entries)"
   ]
  },
  {
   "cell_type": "code",
   "execution_count": 27,
   "metadata": {},
   "outputs": [],
   "source": [
    "def ensure_file_existence(output_filename):\n",
    "    \"\"\"\n",
    "    Checks wheterh the path to the file exists. If not it creates the folder structure and the final file.\n",
    "    :param output_filename: path to the file\n",
    "    :return:\n",
    "    \"\"\"\n",
    "\n",
    "    # creates dirs etc if they do not exists\n",
    "    output_path = Path(output_filename)\n",
    "    if not os.path.exists(output_path.parent):\n",
    "        os.makedirs(output_path.parent)\n",
    "    output_path.touch(exist_ok=True)  # will create file, if it exists will do nothing"
   ]
  },
  {
   "cell_type": "code",
   "execution_count": 28,
   "metadata": {},
   "outputs": [],
   "source": [
    "def plot(name:str,save=True) -> None:\n",
    "    name = name.replace(' ','-')\n",
    "    if save:\n",
    "        plt.savefig(get_path(plot_save_dir,name+\".png\"))\n",
    "    plt.show()"
   ]
  },
  {
   "cell_type": "code",
   "execution_count": 29,
   "metadata": {},
   "outputs": [],
   "source": [
    "def extraction_pandas_frame_algo(path, COMP=\"TODO\"):\n",
    "    df = pd.read_csv(path)\n",
    "\n",
    "    # dropping columns we do not care about\n",
    "    df = df.drop(['iterations', 'bytes_per_second', 'items_per_second', 'label', 'error_occurred', 'error_message'],\n",
    "                 axis=1)\n",
    "\n",
    "    # adding the problem size as column\n",
    "    df = df[df['name'].str.endswith(('mean', 'median', 'stddev'))]\n",
    "    df['n'] = df.apply(lambda x: x[0][x[0].find('/') + 1:x[0].rfind('_')], axis=1)\n",
    "\n",
    "    df = df.reset_index(drop=True)\n",
    "\n",
    "    # convert to format \n",
    "    # name\treal_time\tcpu_time\ttime_unit\tn\tmedian\tstddev\tCompiler\n",
    "    results_gcc = df.groupby('n').apply(lambda sf: pd.Series(sf.iloc[0])).reset_index(drop=True)\n",
    "    results_gcc.n = results_gcc.n.astype(int)\n",
    "    results_gcc = results_gcc.sort_values(['n'], ascending=True).reset_index(drop=True)\n",
    "\n",
    "    results_gcc['C'] = np.arange(len(results_gcc))\n",
    "\n",
    "    results_gcc['median_id'] = results_gcc['C'] * 3 + 1\n",
    "    results_gcc['median'] = results_gcc['median_id'].apply(lambda x: df.iloc[x]['real_time'])\n",
    "\n",
    "    results_gcc['stddev_id'] = results_gcc['C'] * 3 + 2\n",
    "    results_gcc['stddev'] = results_gcc['stddev_id'].apply(lambda x: df.iloc[x]['real_time'])\n",
    "\n",
    "    results_gcc = results_gcc.drop(['C', 'median_id', 'stddev_id'], axis=1)\n",
    "    results_gcc['Compiler'] = COMP\n",
    "    results_gcc['name'] = results_gcc.apply(lambda x: x[0].replace(str(x['n']), \"\").replace('/_mean', ''), axis=1)\n",
    "\n",
    "    return results_gcc\n"
   ]
  },
  {
   "cell_type": "code",
   "execution_count": 30,
   "metadata": {},
   "outputs": [],
   "source": [
    "# generate filename for threading\n",
    "def get_threading_file_name(benchmark_name:str, thread_nr: int, input_size:str) -> str:\n",
    "    return f\"[T{thread_nr}]_{benchmark_name}_{input_size}_T{thread_nr}.csv\"\n",
    "\n",
    "# extract threaded into dictionary\n",
    "def extraction_pandas_frame_algo_threaded(folder_path:str, benchmark_name:str, threads_list:List[int], input_size:int = '67108864', COMP:str=\"TODO\") -> Any:\n",
    "    result = pd.DataFrame()\n",
    "\n",
    "    for t_id in threads_list:\n",
    "        filename = get_threading_file_name(benchmark_name=benchmark_name,thread_nr=t_id,input_size=input_size)\n",
    "        file_path = get_path(folder_path,filename)\n",
    "        \n",
    "        data_frame = extraction_pandas_frame_algo(file_path,COMP=COMP)\n",
    "        data_frame['threads'] = t_id\n",
    "        result = pd.concat([result, data_frame], ignore_index=True)\n",
    "\n",
    "\n",
    "    result = result.rename_axis(None, axis=1)\n",
    "    return result"
   ]
  },
  {
   "cell_type": "code",
   "execution_count": 31,
   "metadata": {},
   "outputs": [],
   "source": [
    "# calculate speedup based on seq runnings\n",
    "def calc_speedup_based_seq(seq_df: pd.DataFrame, threads_df: pd.DataFrame, speedup_column_name:str, input_size:int = 67108864) -> pd.DataFrame:\n",
    "    # calculate speedup\n",
    "    seq_df = seq_df[seq_df['n'] == input_size]\n",
    "    seq_time = seq_df['real_time'].iloc[0] # now its only a single digit\n",
    "\n",
    "    threads_df['speedup'] = seq_time / threads_df['real_time'] \n",
    "\n",
    "    # clean df\n",
    "    threads_df = threads_df.drop(columns=['name','cpu_time','time_unit','median','stddev','Compiler','n','real_time'])\n",
    "    threads_df = threads_df.rename(columns={'speedup':speedup_column_name})\n",
    "\n",
    "    return threads_df"
   ]
  },
  {
   "cell_type": "code",
   "execution_count": 32,
   "metadata": {},
   "outputs": [],
   "source": [
    "def calc_speedup_based_par(threads_df: pd.DataFrame, speedup_column_name:str, input_size:int = 67108864) -> pd.DataFrame:\n",
    "    base_time = threads_df[threads_df['threads'] == 1].iloc[0]['real_time']\n",
    "    \n",
    "    threads_df['speedup'] = base_time / threads_df['real_time'] \n",
    "\n",
    "    # clean df\n",
    "    threads_df = threads_df.drop(columns=['name','cpu_time','time_unit','median','stddev','Compiler','n','real_time'])\n",
    "    threads_df = threads_df.rename(columns={'speedup':speedup_column_name})\n",
    "\n",
    "    return threads_df"
   ]
  },
  {
   "attachments": {},
   "cell_type": "markdown",
   "metadata": {},
   "source": [
    "# H2\n",
    "> The performance is significantly impacted by the order in which parallelism is applied, whether it is outer loop\n",
    "> sequential and inner loop parallel, or outer loop parallel and inner loop sequential."
   ]
  },
  {
   "attachments": {},
   "cell_type": "markdown",
   "metadata": {},
   "source": [
    "## XXXX"
   ]
  },
  {
   "attachments": {},
   "cell_type": "markdown",
   "metadata": {},
   "source": [
    "### Time Comparison - XXX\n",
    "\n",
    "\n",
    "Check how the runtime without constraining the threads develops with increasing input size"
   ]
  },
  {
   "cell_type": "code",
   "execution_count": null,
   "metadata": {},
   "outputs": [],
   "source": []
  },
  {
   "attachments": {},
   "cell_type": "markdown",
   "metadata": {},
   "source": [
    "### Strong Scaling - XXX\n",
    " \n",
    "1 Million fixed input size with threads 1-64"
   ]
  },
  {
   "cell_type": "code",
   "execution_count": null,
   "metadata": {},
   "outputs": [],
   "source": []
  },
  {
   "cell_type": "code",
   "execution_count": 1,
   "metadata": {},
   "outputs": [],
   "source": [
    "## efficiency graph\n",
    "\n"
   ]
  },
  {
   "attachments": {},
   "cell_type": "markdown",
   "metadata": {},
   "source": [
    "### Plots"
   ]
  },
  {
   "cell_type": "code",
   "execution_count": null,
   "metadata": {},
   "outputs": [],
   "source": []
  },
  {
   "attachments": {},
   "cell_type": "markdown",
   "metadata": {},
   "source": [
    "## Performance Portability Calculation (Inter Compiler)"
   ]
  },
  {
   "attachments": {},
   "cell_type": "markdown",
   "metadata": {},
   "source": [
    "TODO"
   ]
  },
  {
   "cell_type": "code",
   "execution_count": 2,
   "metadata": {},
   "outputs": [],
   "source": [
    "# calc pp_metrics\n"
   ]
  },
  {
   "attachments": {},
   "cell_type": "markdown",
   "metadata": {},
   "source": [
    "## Findings for H2\n",
    "\n",
    "### XXX\n",
    "\n",
    "### General\n",
    "\n",
    "\n",
    "### GPU Findings\n",
    "\n",
    "\n",
    "### Hypothesis Findings\n",
    "\n",
    "\n"
   ]
  }
 ],
 "metadata": {
  "kernelspec": {
   "display_name": "Python 3",
   "language": "python",
   "name": "python3"
  },
  "language_info": {
   "codemirror_mode": {
    "name": "ipython",
    "version": 3
   },
   "file_extension": ".py",
   "mimetype": "text/x-python",
   "name": "python",
   "nbconvert_exporter": "python",
   "pygments_lexer": "ipython3",
   "version": "3.11.1"
  },
  "orig_nbformat": 4
 },
 "nbformat": 4,
 "nbformat_minor": 2
}
